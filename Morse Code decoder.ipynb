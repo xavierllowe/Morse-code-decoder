{
 "cells": [
  {
   "cell_type": "code",
   "execution_count": 9,
   "metadata": {
    "scrolled": true
   },
   "outputs": [
    {
     "name": "stdout",
     "output_type": "stream",
     "text": [
      "BH3\n"
     ]
    }
   ],
   "source": [
    "# Dictionary\n",
    "MORSE_CODE_DICT = { 'A':'.-', 'B':'-...',\n",
    "   'C':'-.-.', 'D':'-..', 'E':'.',\n",
    "   'F':'..-.', 'G':'--.', 'H':'....',\n",
    "   'I':'..', 'J':'.---', 'K':'-.-',\n",
    "   'L':'.-..', 'M':'--', 'N':'-.',\n",
    "   'O':'---', 'P':'.--.', 'Q':'--.-',\n",
    "   'R':'.-.', 'S':'...', 'T':'-',\n",
    "   'U':'..-', 'V':'...-', 'W':'.--',\n",
    "   'X':'-..-', 'Y':'-.--', 'Z':'--..',\n",
    "   '1':'.----', '2':'..---', '3':'...--',\n",
    "   '4':'....-', '5':'.....', '6':'-....',\n",
    "   '7':'--...', '8':'---..', '9':'----.',\n",
    "   '0':'-----', ', ':'--..--', '.':'.-.-.-',\n",
    "   '?':'..--..', '/':'-..-.', '-':'-....-',\n",
    "   '(':'-.--.', ')':'-.--.-'\n",
    "}\n",
    "\n",
    "# This function is used to decrypt\n",
    "# Morse code to English\n",
    "def decryption(message):\n",
    "   message += ' '\n",
    "   decipher = ''\n",
    "   mycitext = ''\n",
    "   for myletter in message:\n",
    "      # checks for space\n",
    "      if (myletter != ' '):\n",
    "         i = 0\n",
    "         mycitext += myletter\n",
    "      else:\n",
    "         i += 1\n",
    "         if i == 2 :\n",
    "            decipher += ' '\n",
    "         else:\n",
    "            decipher += list(MORSE_CODE_DICT.keys())[list(MORSE_CODE_DICT\n",
    "            .values()).index(mycitext)]\n",
    "            mycitext = ''\n",
    "   return decipher\n",
    "def main():\n",
    "   my_message1 = \"-... .... ...--\"\n",
    "   output1 = decryption(my_message1)\n",
    "   print (output)\n",
    "\n",
    "# Executes the main function\n",
    "if __name__ == '__main__':\n",
    "   main()"
   ]
  },
  {
   "cell_type": "code",
   "execution_count": 10,
   "metadata": {},
   "outputs": [
    {
     "name": "stdout",
     "output_type": "stream",
     "text": [
      "AV2WHIECX 45"
     ]
    }
   ],
   "source": [
    "# Dictionary\n",
    "MORSE_CODE_DICT = { 'A':'.-', 'B':'-...',\n",
    "   'C':'-.-.', 'D':'-..', 'E':'.',\n",
    "   'F':'..-.', 'G':'--.', 'H':'....',\n",
    "   'I':'..', 'J':'.---', 'K':'-.-',\n",
    "   'L':'.-..', 'M':'--', 'N':'-.',\n",
    "   'O':'---', 'P':'.--.', 'Q':'--.-',\n",
    "   'R':'.-.', 'S':'...', 'T':'-',\n",
    "   'U':'..-', 'V':'...-', 'W':'.--',\n",
    "   'X':'-..-', 'Y':'-.--', 'Z':'--..',\n",
    "   '1':'.----', '2':'..---', '3':'...--',\n",
    "   '4':'....-', '5':'.....', '6':'-....',\n",
    "   '7':'--...', '8':'---..', '9':'----.',\n",
    "   '0':'-----', ', ':'--..--', '.':'.-.-.-',\n",
    "   '?':'..--..', '/':'-..-.', '-':'-....-',\n",
    "   '(':'-.--.', ')':'-.--.-'\n",
    "}\n",
    "\n",
    "# This function is used to decrypt\n",
    "# Morse code to English\n",
    "def decryption(message):\n",
    "   message += ' '\n",
    "   decipher = ''\n",
    "   mycitext = ''\n",
    "   for myletter in message:\n",
    "      # checks for space\n",
    "      if (myletter != ' '):\n",
    "         i = 0\n",
    "         mycitext += myletter\n",
    "      else:\n",
    "         i += 1\n",
    "         if i == 2 :\n",
    "            decipher += ' '\n",
    "         else:\n",
    "            decipher += list(MORSE_CODE_DICT.keys())[list(MORSE_CODE_DICT\n",
    "            .values()).index(mycitext)]\n",
    "            mycitext = ''\n",
    "   return decipher\n",
    "def main():\n",
    "   my_message = \".- ...- ..--- .-- .... .. . -.-. -..-  ....- .....\"\n",
    "   output = decryption(my_message)\n",
    "   print (output, end=\"\")\n",
    "\n",
    "# Executes the main function\n",
    "if __name__ == '__main__':\n",
    "   main()"
   ]
  },
  {
   "cell_type": "code",
   "execution_count": null,
   "metadata": {},
   "outputs": [],
   "source": []
  }
 ],
 "metadata": {
  "kernelspec": {
   "display_name": "Python 3",
   "language": "python",
   "name": "python3"
  },
  "language_info": {
   "codemirror_mode": {
    "name": "ipython",
    "version": 3
   },
   "file_extension": ".py",
   "mimetype": "text/x-python",
   "name": "python",
   "nbconvert_exporter": "python",
   "pygments_lexer": "ipython3",
   "version": "3.7.3"
  }
 },
 "nbformat": 4,
 "nbformat_minor": 2
}
